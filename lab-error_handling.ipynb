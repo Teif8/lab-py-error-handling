{
 "cells": [
  {
   "cell_type": "markdown",
   "metadata": {},
   "source": [
    "# LAB | Error Handling in Python\n",
    "\n",
    "## Overview\n",
    "This exercise notebook will help you practice error handling in Python using exceptions. You will write programs that handle various types of exceptions to ensure your code runs smoothly and handles errors gracefully."
   ]
  },
  {
   "cell_type": "markdown",
   "metadata": {},
   "source": [
    "### Exercise 1: Handle ZeroDivisionError\n",
    "Write a Python program to handle a `ZeroDivisionError` exception when dividing a number by zero.\n"
   ]
  },
  {
   "cell_type": "code",
   "execution_count": 8,
   "metadata": {},
   "outputs": [
    {
     "name": "stdin",
     "output_type": "stream",
     "text": [
      "Enter numerator:  8\n",
      "Enter denominator:  0\n"
     ]
    },
    {
     "name": "stdout",
     "output_type": "stream",
     "text": [
      "Error: Division by zero is not allowed.\n"
     ]
    }
   ],
   "source": [
    "def safe_divide(a, b):\n",
    "    try:\n",
    "        result = a / b\n",
    "        print(f\"Result: {result}\")\n",
    "    except ZeroDivisionError:\n",
    "        print(\"Error: Division by zero is not allowed.\")\n",
    "\n",
    "# Example usage\n",
    "a = float(input(\"Enter numerator: \"))\n",
    "b = float(input(\"Enter denominator: \"))\n",
    "safe_divide(a, b)\n"
   ]
  },
  {
   "cell_type": "markdown",
   "metadata": {},
   "source": [
    "\n",
    "### Exercise 2: Raise ValueError for Invalid Input\n",
    "Write a Python program that prompts the user to input an integer and raises a `ValueError` exception if the input is not a valid integer.\n",
    "\n"
   ]
  },
  {
   "cell_type": "code",
   "execution_count": 10,
   "metadata": {},
   "outputs": [
    {
     "name": "stdin",
     "output_type": "stream",
     "text": [
      "Enter an integer:  10\n",
      "Enter an integer:  1\n"
     ]
    },
    {
     "name": "stdout",
     "output_type": "stream",
     "text": [
      "Result: 10.0\n"
     ]
    }
   ],
   "source": [
    "def get_integer():\n",
    "    try:\n",
    "        value = int(input(\"Enter an integer: \"))\n",
    "        return value\n",
    "    except ValueError:\n",
    "        print(\"Error: Invalid input. Please enter a valid integer.\")\n",
    "        return get_integer()\n",
    "\n",
    "# Example usage\n",
    "a = get_integer()\n",
    "b = get_integer()\n",
    "safe_divide(a, b)\n"
   ]
  },
  {
   "cell_type": "markdown",
   "metadata": {},
   "source": [
    "\n",
    "\n",
    "### Exercise 3: Handle FileNotFoundError\n",
    "Write a Python program that opens a file and handles a `FileNotFoundError` exception if the file does not exist.\n",
    "\n"
   ]
  },
  {
   "cell_type": "code",
   "execution_count": 16,
   "metadata": {},
   "outputs": [
    {
     "name": "stdin",
     "output_type": "stream",
     "text": [
      "Enter the filename to open:  Teif\n"
     ]
    },
    {
     "name": "stdout",
     "output_type": "stream",
     "text": [
      "Error: The file was not found.\n"
     ]
    }
   ],
   "source": [
    "def open_file(filename):\n",
    "    try:\n",
    "        with open(filename, 'r') as file:\n",
    "            content = file.read()\n",
    "            print(content)\n",
    "    except FileNotFoundError:\n",
    "        print(\"Error: The file was not found.\")\n",
    "\n",
    "filename = input(\"Enter the filename to open: \")\n",
    "open_file(filename)\n"
   ]
  },
  {
   "cell_type": "markdown",
   "metadata": {},
   "source": [
    "\n",
    "\n",
    "### Exercise 4: Raise TypeError for Non-Numerical Input\n",
    "Write a Python program that prompts the user to input two numbers and raises a `TypeError` exception if the inputs are not numerical.\n",
    "\n"
   ]
  },
  {
   "cell_type": "code",
   "execution_count": 26,
   "metadata": {},
   "outputs": [
    {
     "name": "stdin",
     "output_type": "stream",
     "text": [
      "Enter the first number:  5\n",
      "Enter the second number:  2.5\n"
     ]
    },
    {
     "name": "stdout",
     "output_type": "stream",
     "text": [
      "Sum: 7.5\n"
     ]
    }
   ],
   "source": [
    "def get_number_input(prompt):\n",
    "    value = input(prompt)\n",
    "    if not value.replace('.', '', 1).isdigit():  # Allows integer and decimal numbers\n",
    "        raise TypeError(\"Invalid input: Please enter a numerical value.\")\n",
    "    return float(value)  # Convert to float for numerical operations\n",
    "\n",
    "try:\n",
    "    num1 = get_number_input(\"Enter the first number: \")\n",
    "    num2 = get_number_input(\"Enter the second number: \")\n",
    "    print(f\"Sum: {num1 + num2}\")  # Example operation\n",
    "except TypeError as e:\n",
    "    print(e)"
   ]
  },
  {
   "cell_type": "markdown",
   "metadata": {},
   "source": [
    "\n",
    "\n",
    "### Exercise 5: Handle PermissionError\n",
    "Write a Python program that opens a file and handles a `PermissionError` exception if there is a permission issue.\n",
    "\n",
    "\n"
   ]
  },
  {
   "cell_type": "code",
   "execution_count": 28,
   "metadata": {},
   "outputs": [],
   "source": [
    "try:\n",
    "    # Trying to open a file in write mode (modify the filename as needed)\n",
    "    with open(\"protected_file.txt\", \"w\") as file:\n",
    "        file.write(\"This is a test.\")\n",
    "except PermissionError:\n",
    "    print(\"PermissionError: You do not have permission to write to this file.\")\n",
    "except Exception as e:\n",
    "    print(f\"An unexpected error occurred: {e}\")"
   ]
  },
  {
   "cell_type": "markdown",
   "metadata": {},
   "source": [
    "\n",
    "\n",
    "### Exercise 6: Handle IndexError in List Operations\n",
    "Write a Python program that executes an operation on a list and handles an `IndexError` exception if the index is out of range.\n",
    "\n",
    "\n"
   ]
  },
  {
   "cell_type": "code",
   "execution_count": 32,
   "metadata": {},
   "outputs": [
    {
     "name": "stdin",
     "output_type": "stream",
     "text": [
      "Enter an index to access an element:  10\n"
     ]
    },
    {
     "name": "stdout",
     "output_type": "stream",
     "text": [
      "IndexError: The index is out of range. Please enter a valid index.\n"
     ]
    }
   ],
   "source": [
    "def get_list_element(my_list, index):\n",
    "    try:\n",
    "        print(f\"Element at index {index}: {my_list[index]}\")\n",
    "    except IndexError:\n",
    "        print(\"IndexError: The index is out of range. Please enter a valid index.\")\n",
    "\n",
    "# Example list\n",
    "numbers = [10, 20, 30, 40, 50]\n",
    "\n",
    "# Prompt user for an index\n",
    "try:\n",
    "    user_index = int(input(\"Enter an index to access an element: \"))\n",
    "    get_list_element(numbers, user_index)\n",
    "except ValueError:\n",
    "    print(\"ValueError: Please enter a valid integer index.\")"
   ]
  },
  {
   "cell_type": "markdown",
   "metadata": {},
   "source": [
    "\n",
    "\n",
    "### Exercise 7: Handle KeyboardInterrupt Exception\n",
    "Write a Python program that prompts the user to input a number and handles a `KeyboardInterrupt` exception if the user cancels the input.\n",
    "\n"
   ]
  },
  {
   "cell_type": "code",
   "execution_count": 34,
   "metadata": {},
   "outputs": [
    {
     "name": "stdin",
     "output_type": "stream",
     "text": [
      "Enter a number:  5\n"
     ]
    },
    {
     "name": "stdout",
     "output_type": "stream",
     "text": [
      "You entered: 5\n"
     ]
    }
   ],
   "source": [
    "try:\n",
    "    num = input(\"Enter a number: \")\n",
    "    print(f\"You entered: {num}\")\n",
    "except KeyboardInterrupt:\n",
    "    print(\"\\nKeyboardInterrupt: Input was canceled by the user.\")"
   ]
  },
  {
   "cell_type": "markdown",
   "metadata": {},
   "source": [
    "\n",
    "\n",
    "### Exercise 8: Handle ArithmeticError\n",
    "Write a Python program that executes division and handles an `ArithmeticError` exception if there is an arithmetic error.\n",
    "\n"
   ]
  },
  {
   "cell_type": "code",
   "execution_count": 36,
   "metadata": {},
   "outputs": [
    {
     "name": "stdin",
     "output_type": "stream",
     "text": [
      "Enter the numerator:  66\n",
      "Enter the denominator:  2\n"
     ]
    },
    {
     "name": "stdout",
     "output_type": "stream",
     "text": [
      "Result: 33.0\n"
     ]
    }
   ],
   "source": [
    "def divide_numbers():\n",
    "    try:\n",
    "        num1 = float(input(\"Enter the numerator: \"))\n",
    "        num2 = float(input(\"Enter the denominator: \"))\n",
    "        result = num1 / num2\n",
    "        print(f\"Result: {result}\")\n",
    "    except ZeroDivisionError:\n",
    "        print(\"ArithmeticError: Cannot divide by zero.\")\n",
    "    except ValueError:\n",
    "        print(\"ValueError: Please enter valid numerical values.\")\n",
    "    except ArithmeticError:\n",
    "        print(\"ArithmeticError: An unexpected arithmetic error occurred.\")\n",
    "\n",
    "# Run the function\n",
    "divide_numbers()"
   ]
  },
  {
   "cell_type": "markdown",
   "metadata": {},
   "source": [
    "\n",
    "\n",
    "### Exercise 9: Handle UnicodeDecodeError\n",
    "Write a Python program that opens a file and handles a `UnicodeDecodeError` exception if there is an encoding issue.\n",
    "\n"
   ]
  },
  {
   "cell_type": "code",
   "execution_count": 40,
   "metadata": {},
   "outputs": [],
   "source": [
    "def read_file(filename):\n",
    "    try:\n",
    "        with open(filename, \"r\", encoding=\"utf-8\") as file:\n",
    "            content = file.read()\n",
    "            print(content)\n",
    "    except UnicodeDecodeError:\n",
    "        print(\"UnicodeDecodeError: Unable to decode the file. The encoding may be incorrect.\")\n",
    "    except FileNotFoundError:\n",
    "        print(\"FileNotFoundError: The specified file does not exist.\")\n",
    "    except Exception as e:\n",
    "        print(f\"An unexpected error occurred: {e}\")"
   ]
  },
  {
   "cell_type": "markdown",
   "metadata": {},
   "source": [
    "\n",
    "\n",
    "### Exercise 10: Handle AttributeError\n",
    "Write a Python program that executes an operation on an object and handles an `AttributeError` exception if the attribute does not exist.\n",
    "\n"
   ]
  },
  {
   "cell_type": "code",
   "execution_count": 42,
   "metadata": {},
   "outputs": [
    {
     "name": "stdin",
     "output_type": "stream",
     "text": [
      "Enter the attribute name to access:  Sample\n"
     ]
    },
    {
     "name": "stdout",
     "output_type": "stream",
     "text": [
      "AttributeError: 'Sample' object has no attribute 'Sample'.\n"
     ]
    }
   ],
   "source": [
    "class Sample:\n",
    "    def __init__(self, name):\n",
    "        self.name = name  # Only 'name' attribute exists\n",
    "\n",
    "def access_attribute(obj, attr):\n",
    "    try:\n",
    "        value = getattr(obj, attr)  # Try to access the attribute\n",
    "        print(f\"Value of '{attr}': {value}\")\n",
    "    except AttributeError:\n",
    "        print(f\"AttributeError: '{type(obj).__name__}' object has no attribute '{attr}'.\")\n",
    "\n",
    "# Example usage\n",
    "sample_obj = Sample(\"Kaito\")\n",
    "\n",
    "# Prompt user for an attribute name\n",
    "attr_name = input(\"Enter the attribute name to access: \")\n",
    "access_attribute(sample_obj, attr_name)"
   ]
  },
  {
   "cell_type": "markdown",
   "metadata": {},
   "source": [
    "\n",
    "\n",
    "## Bonus Exercises\n",
    "\n",
    "### Bonus Exercise 1: Handle Multiple Exceptions\n",
    "Write a Python program that demonstrates handling multiple exceptions in one block.\n",
    "\n",
    "\n"
   ]
  },
  {
   "cell_type": "code",
   "execution_count": 44,
   "metadata": {},
   "outputs": [
    {
     "name": "stdin",
     "output_type": "stream",
     "text": [
      "Enter the numerator:  10\n",
      "Enter the denominator:  2\n"
     ]
    },
    {
     "name": "stdout",
     "output_type": "stream",
     "text": [
      "Result: 5.0\n"
     ]
    }
   ],
   "source": [
    "def handle_exceptions():\n",
    "    try:\n",
    "        num1 = int(input(\"Enter the numerator: \"))  # May raise ValueError\n",
    "        num2 = int(input(\"Enter the denominator: \"))  # May raise ValueError\n",
    "        result = num1 / num2  # May raise ZeroDivisionError\n",
    "        print(f\"Result: {result}\")\n",
    "    except (ValueError, ZeroDivisionError) as e:\n",
    "        print(f\"Error: {e.__class__.__name__} - {e}\")\n",
    "    except Exception as e:\n",
    "        print(f\"Unexpected Error: {e.__class__.__name__} - {e}\")\n",
    "\n",
    "# Run the function\n",
    "handle_exceptions()"
   ]
  },
  {
   "cell_type": "markdown",
   "metadata": {},
   "source": [
    "\n",
    "\n",
    "### Bonus Exercise 2: Create Custom Exception\n",
    "Create a custom exception class and raise it in your code when certain conditions are met.\n",
    "\n",
    "\n"
   ]
  },
  {
   "cell_type": "code",
   "execution_count": 46,
   "metadata": {},
   "outputs": [
    {
     "name": "stdin",
     "output_type": "stream",
     "text": [
      "Enter a number:  -5\n"
     ]
    },
    {
     "name": "stdout",
     "output_type": "stream",
     "text": [
      "Error: Invalid number: -5.0. Negative numbers are not allowed.\n"
     ]
    }
   ],
   "source": [
    "# Define a custom exception class\n",
    "class NegativeNumberError(Exception):\n",
    "    def __init__(self, message=\"Negative numbers are not allowed!\"):\n",
    "        self.message = message\n",
    "        super().__init__(self.message)\n",
    "\n",
    "def check_positive_number(num):\n",
    "    if num < 0:\n",
    "        raise NegativeNumberError(f\"Invalid number: {num}. Negative numbers are not allowed.\")\n",
    "    else:\n",
    "        print(f\"Valid number: {num}\")\n",
    "\n",
    "# Example usage\n",
    "try:\n",
    "    number = float(input(\"Enter a number: \"))\n",
    "    check_positive_number(number)\n",
    "except NegativeNumberError as e:\n",
    "    print(f\"Error: {e}\")\n",
    "except ValueError:\n",
    "    print(\"Error: Please enter a valid number.\")"
   ]
  },
  {
   "cell_type": "markdown",
   "metadata": {},
   "source": [
    "\n",
    "\n",
    "### Bonus Exercise 3: Validate User Input with Exception Handling\n",
    "Write a program that repeatedly prompts the user for valid input until they provide it, using exception handling to manage invalid inputs.\n",
    "\n"
   ]
  },
  {
   "cell_type": "code",
   "execution_count": 48,
   "metadata": {},
   "outputs": [
    {
     "name": "stdin",
     "output_type": "stream",
     "text": [
      "Please enter a positive integer:  5\n"
     ]
    },
    {
     "name": "stdout",
     "output_type": "stream",
     "text": [
      "You entered a valid positive integer: 5\n"
     ]
    }
   ],
   "source": [
    "def get_positive_integer():\n",
    "    while True:\n",
    "        try:\n",
    "            user_input = input(\"Please enter a positive integer: \")\n",
    "            num = int(user_input)  # Try converting to an integer\n",
    "            if num <= 0:\n",
    "                raise ValueError(\"The number must be positive.\")\n",
    "            return num  # Return the valid number\n",
    "        except ValueError as e:\n",
    "            print(f\"Invalid input: {e}. Please try again.\")\n",
    "        except Exception as e:\n",
    "            print(f\"An unexpected error occurred: {e}\")\n",
    "\n",
    "# Example usage\n",
    "valid_number = get_positive_integer()\n",
    "print(f\"You entered a valid positive integer: {valid_number}\")"
   ]
  },
  {
   "cell_type": "markdown",
   "metadata": {},
   "source": [
    "\n",
    "\n",
    "### Bonus Exercise 4: Log Errors to File\n",
    "Modify your error handling to log errors to a text file instead of printing them to the console.\n",
    "\n"
   ]
  },
  {
   "cell_type": "code",
   "execution_count": 50,
   "metadata": {},
   "outputs": [
    {
     "name": "stdin",
     "output_type": "stream",
     "text": [
      "Please enter a positive integer:  -6\n"
     ]
    },
    {
     "name": "stdout",
     "output_type": "stream",
     "text": [
      "Invalid input. Please try again.\n"
     ]
    },
    {
     "name": "stdin",
     "output_type": "stream",
     "text": [
      "Please enter a positive integer:  6\n"
     ]
    },
    {
     "name": "stdout",
     "output_type": "stream",
     "text": [
      "You entered a valid positive integer: 6\n"
     ]
    }
   ],
   "source": [
    "import logging\n",
    "\n",
    "# Set up logging configuration\n",
    "logging.basicConfig(filename=\"error_log.txt\", level=logging.ERROR, \n",
    "                    format=\"%(asctime)s - %(levelname)s - %(message)s\")\n",
    "\n",
    "def get_positive_integer():\n",
    "    while True:\n",
    "        try:\n",
    "            user_input = input(\"Please enter a positive integer: \")\n",
    "            num = int(user_input)  # Try converting to an integer\n",
    "            if num <= 0:\n",
    "                raise ValueError(\"The number must be positive.\")\n",
    "            return num  # Return the valid number\n",
    "        except ValueError as e:\n",
    "            logging.error(f\"Invalid input: {e}. User input was: {user_input}\")\n",
    "            print(\"Invalid input. Please try again.\")\n",
    "        except Exception as e:\n",
    "            logging.error(f\"An unexpected error occurred: {e}. User input was: {user_input}\")\n",
    "            print(\"An unexpected error occurred. Please try again.\")\n",
    "\n",
    "# Example usage\n",
    "valid_number = get_positive_integer()\n",
    "print(f\"You entered a valid positive integer: {valid_number}\")"
   ]
  },
  {
   "cell_type": "markdown",
   "metadata": {},
   "source": [
    "\n",
    "\n",
    "### Bonus Exercise 5: Retry Logic on Exception\n",
    "Implement retry logic for operations that could fail, allowing users to try again after encountering an error.\n",
    "\n"
   ]
  },
  {
   "cell_type": "code",
   "execution_count": null,
   "metadata": {},
   "outputs": [],
   "source": [
    "def get_positive_integer_with_retry(retries=3):\n",
    "    attempt = 0\n",
    "    while attempt < retries:\n",
    "        try:\n",
    "            user_input = input(\"Please enter a positive integer: \")\n",
    "            num = int(user_input)  # Try converting to an integer\n",
    "            if num <= 0:\n",
    "                raise ValueError(\"The number must be positive.\")\n",
    "            return num  # Return the valid number\n",
    "        except ValueError as e:\n",
    "            attempt += 1\n",
    "            print(f\"Invalid input: {e}. Please try again. Attempt {attempt} of {retries}.\")\n",
    "        except Exception as e:\n",
    "            attempt += 1\n",
    "            print(f\"An unexpected error occurred: {e}. Please try again. Attempt {attempt} of {retries}.\")\n",
    "        \n",
    "        # If retries are exhausted\n",
    "        if attempt == retries:\n",
    "            print(\"Maximum retry attempts reached. Exiting.\")\n",
    "            return None\n",
    "\n",
    "# Example usage\n",
    "valid_number = get_positive_integer_with_retry()\n",
    "if valid_number is not None:\n",
    "    print(f\"You entered a valid positive integer: {valid_number}\")"
   ]
  },
  {
   "cell_type": "code",
   "execution_count": null,
   "metadata": {},
   "outputs": [],
   "source": []
  }
 ],
 "metadata": {
  "kernelspec": {
   "display_name": "Python [conda env:base] *",
   "language": "python",
   "name": "conda-base-py"
  },
  "language_info": {
   "codemirror_mode": {
    "name": "ipython",
    "version": 3
   },
   "file_extension": ".py",
   "mimetype": "text/x-python",
   "name": "python",
   "nbconvert_exporter": "python",
   "pygments_lexer": "ipython3",
   "version": "3.12.7"
  }
 },
 "nbformat": 4,
 "nbformat_minor": 4
}
